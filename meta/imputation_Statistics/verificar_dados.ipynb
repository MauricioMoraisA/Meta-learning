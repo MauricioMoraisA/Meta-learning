{
 "cells": [
  {
   "cell_type": "code",
   "execution_count": 2,
   "metadata": {},
   "outputs": [],
   "source": [
    "import os\n",
    "import pandas as pd\n"
   ]
  },
  {
   "cell_type": "code",
   "execution_count": 22,
   "metadata": {},
   "outputs": [
    {
     "name": "stdout",
     "output_type": "stream",
     "text": [
      "Total Células: 507459420.00\n",
      "Porcentagem Dados Faltosos Contínuos: 17.00%\n",
      "Porcentagem Dados Faltosos Semi-Estruturados: 39.56%\n",
      "Porcentagem Dados Faltosos Não Contínuos: 43.44%\n"
     ]
    }
   ],
   "source": [
    "import os\n",
    "import pandas as pd\n",
    "\n",
    "# Caminho base para o diretório experiments\n",
    "caminho_base = \"./experiments\"\n",
    "\n",
    "# Inicializa contadores globais\n",
    "total_celulas = 0\n",
    "total_faltosos = 0\n",
    "faltosos_continuos = 0\n",
    "faltosos_semi_estruturados = 0\n",
    "\n",
    "# Navega pela estrutura de diretórios\n",
    "for pasta_principal in ['10', '20', '30']:\n",
    "    caminho_principal = os.path.join(caminho_base, pasta_principal)\n",
    "    for subpasta in ['48', '512', '1024']:\n",
    "        caminho_subpasta = os.path.join(caminho_principal, subpasta)\n",
    "        for tipo in ['teste', 'treino']:\n",
    "            caminho_tipo = os.path.join(caminho_subpasta, tipo)\n",
    "            caminho_input = os.path.join(caminho_tipo, 'input')  # Apenas a subpasta 'input'\n",
    "            \n",
    "            if os.path.exists(caminho_input):  # Verifica se a pasta 'input' existe\n",
    "                for arquivo in os.listdir(caminho_input):\n",
    "                    if arquivo.endswith('.csv'):\n",
    "                        caminho_arquivo = os.path.join(caminho_input, arquivo)\n",
    "                        # print(f\"Processando: {caminho_arquivo}\")\n",
    "                        \n",
    "                        # Lê o CSV\n",
    "                        df = pd.read_csv(caminho_arquivo)\n",
    "                        \n",
    "                        # Atualiza o total de células\n",
    "                        total_celulas += df.size  # Número de células (linhas × colunas)\n",
    "\n",
    "                        # Verifica dados faltosos por coluna (série)\n",
    "                        for coluna in df.columns:\n",
    "                            serie = df[coluna].isna()  # Detecta valores faltosos na coluna\n",
    "\n",
    "                            # Dados faltosos contínuos\n",
    "                            continuos = (serie != serie.shift()).cumsum()  # Grupos consecutivos\n",
    "                            faltosos_continuos += serie.groupby(continuos).sum().gt(1).sum()\n",
    "\n",
    "                            # Semi-Estruturados (distância entre NaNs <= 1)\n",
    "                            nan_indices = serie[serie].index  # Índices dos NaNs\n",
    "                            if len(nan_indices) > 1:  # Verifica pares consecutivos de NaNs\n",
    "                                distancias = nan_indices[1:] - nan_indices[:-1]\n",
    "                                faltosos_semi_estruturados += (distancias <= 2).sum()\n",
    "\n",
    "                            # Atualiza o total de NaNs\n",
    "                            total_faltosos += serie.sum()\n",
    "\n",
    "# Calcula porcentagens globais\n",
    "if total_faltosos > 0:\n",
    "    porcentagem_continuos = (faltosos_continuos / total_faltosos) * 100\n",
    "    porcentagem_semi_estruturados = (faltosos_semi_estruturados / total_faltosos) * 100\n",
    "    porcentagem_nao_continuos = 100 - (porcentagem_continuos + porcentagem_semi_estruturados)\n",
    "else:\n",
    "    porcentagem_continuos = porcentagem_semi_estruturados = porcentagem_nao_continuos = 0\n",
    "\n",
    "# Exibe os resultados\n",
    "print(f\"Total Células: {total_celulas:.2f}\")\n",
    "print(f\"Porcentagem Dados Faltosos Contínuos: {porcentagem_continuos:.2f}%\")\n",
    "print(f\"Porcentagem Dados Faltosos Semi-Estruturados: {porcentagem_semi_estruturados:.2f}%\")\n",
    "print(f\"Porcentagem Dados Faltosos Não Contínuos: {porcentagem_nao_continuos:.2f}%\")\n"
   ]
  },
  {
   "cell_type": "code",
   "execution_count": null,
   "metadata": {},
   "outputs": [],
   "source": []
  }
 ],
 "metadata": {
  "kernelspec": {
   "display_name": "pyt_envmau",
   "language": "python",
   "name": "python3"
  },
  "language_info": {
   "codemirror_mode": {
    "name": "ipython",
    "version": 3
   },
   "file_extension": ".py",
   "mimetype": "text/x-python",
   "name": "python",
   "nbconvert_exporter": "python",
   "pygments_lexer": "ipython3",
   "version": "3.10.12"
  }
 },
 "nbformat": 4,
 "nbformat_minor": 2
}
